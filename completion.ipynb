{
 "cells": [
  {
   "cell_type": "code",
   "execution_count": 1,
   "metadata": {},
   "outputs": [],
   "source": [
    "import os\n",
    "from openai import OpenAI\n",
    "\n",
    "\n",
    "client = OpenAI(\n",
    "    api_key=os.environ.get(\"OPENAI_API_KEY\"),  # This is the default and can be omitted\n",
    ")"
   ]
  },
  {
   "cell_type": "code",
   "execution_count": 2,
   "metadata": {},
   "outputs": [
    {
     "name": "stdout",
     "output_type": "stream",
     "text": [
      "To provide the best advice on the fastest way to get to the airport, I would need to know a few details:\n",
      "\n",
      "1. **Location** - Where are you starting from?\n",
      "2. **Airport** - Which airport are you traveling to?\n",
      "3. **Time of Day** - What time are you planning to leave? Traffic conditions can vary greatly depending on the time of day.\n",
      "4. **Transportation Options** - Are you considering public transportation, driving, rideshare services, or another mode of transport?\n",
      "\n",
      "With this information, I can help offer tailored advice. Generally, checking a real-time navigation app like Google Maps or Waze shortly before departure can provide the quickest route considering current traffic conditions.\n"
     ]
    }
   ],
   "source": [
    "result = client.chat.completions.create(\n",
    "    model=\"gpt-4o\",\n",
    "    messages=[\n",
    "        {\n",
    "            \"role\": \"system\",\n",
    "            \"content\": \"You are a helpful assistant.\"\n",
    "        },\n",
    "        {\n",
    "            \"role\": \"user\",\n",
    "            \"content\": \"What is the fastest way to get to the airport?\"\n",
    "        }\n",
    "    ]\n",
    ")\n",
    "print(result.choices[0].message.content)"
   ]
  },
  {
   "cell_type": "code",
   "execution_count": null,
   "metadata": {},
   "outputs": [],
   "source": []
  }
 ],
 "metadata": {
  "kernelspec": {
   "display_name": "ai-exp",
   "language": "python",
   "name": "python3"
  },
  "language_info": {
   "codemirror_mode": {
    "name": "ipython",
    "version": 3
   },
   "file_extension": ".py",
   "mimetype": "text/x-python",
   "name": "python",
   "nbconvert_exporter": "python",
   "pygments_lexer": "ipython3",
   "version": "3.11.3"
  }
 },
 "nbformat": 4,
 "nbformat_minor": 2
}
