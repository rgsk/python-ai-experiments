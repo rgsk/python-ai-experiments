{
 "cells": [
  {
   "cell_type": "code",
   "execution_count": 36,
   "metadata": {},
   "outputs": [
    {
     "name": "stdout",
     "output_type": "stream",
     "text": [
      "None\n"
     ]
    }
   ],
   "source": [
    "import numpy as np\n",
    "import pandas as pd\n",
    "\n",
    "# Set seed for reproducibility\n",
    "np.random.seed(42)\n",
    "\n",
    "# Number of samples\n",
    "n_samples = 100\n",
    "\n",
    "# Generate random data for X\n",
    "X = np.random.rand(n_samples, 1) * 100  # Features\n",
    "\n",
    "# Coefficients\n",
    "true_slope = 2.5\n",
    "true_intercept = 10\n",
    "\n",
    "# Generate linear data with some noise\n",
    "noise = np.random.randn(n_samples, 1) * 10\n",
    "Y = true_slope * X + true_intercept + noise  # Target\n",
    "\n",
    "# Create a DataFrame\n",
    "data = pd.DataFrame(data=np.hstack((X, Y)), columns=[\"Feature\", \"Target\"])\n",
    "\n",
    "# Save DataFrame to a CSV file\n",
    "print(data.to_csv(\"linear_regression_sample_data.csv\", index=True))\n"
   ]
  },
  {
   "cell_type": "code",
   "execution_count": 18,
   "metadata": {},
   "outputs": [
    {
     "data": {
      "text/html": [
       "<div>\n",
       "<style scoped>\n",
       "    .dataframe tbody tr th:only-of-type {\n",
       "        vertical-align: middle;\n",
       "    }\n",
       "\n",
       "    .dataframe tbody tr th {\n",
       "        vertical-align: top;\n",
       "    }\n",
       "\n",
       "    .dataframe thead th {\n",
       "        text-align: right;\n",
       "    }\n",
       "</style>\n",
       "<table border=\"1\" class=\"dataframe\">\n",
       "  <thead>\n",
       "    <tr style=\"text-align: right;\">\n",
       "      <th></th>\n",
       "      <th></th>\n",
       "      <th></th>\n",
       "      <th></th>\n",
       "      <th></th>\n",
       "      <th></th>\n",
       "      <th></th>\n",
       "      <th>Feature</th>\n",
       "    </tr>\n",
       "  </thead>\n",
       "  <tbody>\n",
       "    <tr>\n",
       "      <th>Target</th>\n",
       "      <th>37.454012</th>\n",
       "      <th>109.037663</th>\n",
       "      <th>95.071431</th>\n",
       "      <th>253.37626</th>\n",
       "      <th>73.199394</th>\n",
       "      <th>201.298169</th>\n",
       "      <td>...</td>\n",
       "    </tr>\n",
       "  </tbody>\n",
       "</table>\n",
       "</div>"
      ],
      "text/plain": [
       "                                                                     Feature\n",
       "Target 37.454012 109.037663 95.071431 253.37626 73.199394 201.298169     ..."
      ]
     },
     "execution_count": 18,
     "metadata": {},
     "output_type": "execute_result"
    }
   ],
   "source": [
    "import pandas as pd\n",
    "from io import StringIO\n",
    "\n",
    "# Given single-line string\n",
    "single_line = \"Feature Target 37.45401188 109.03766281 95.07143064 253.37626003 73.19939418 201.29816862 ...\"  # Truncated\n",
    "\n",
    "# Replace spaces with newlines where needed and read as CSV\n",
    "csv_data = single_line.replace(' ', '\\n', 1)  # Replace only the first space to restore the header correctly\n",
    "df = pd.read_csv(StringIO(csv_data), sep=' ')\n",
    "\n",
    "# Print DataFrame\n",
    "df.head()\n"
   ]
  },
  {
   "cell_type": "code",
   "execution_count": 19,
   "metadata": {},
   "outputs": [
    {
     "name": "stdout",
     "output_type": "stream",
     "text": [
      "Feature|Target 37.454011884736246|104.50550039422232 95.07143064099162|244.68850309782036 73.1993941811405|193.9160932182063 59.86584841970366|139.78893190325022 15.601864044243651|46.80794123223401 15.599452033620265|52.56975579916812 5.8083612168199465|39.299843489465026 86.61761457749351|221.3613342609973 60.11150117432088|152.19381690687032 70.80725777960456|182.00057401316604 2.0584494295802447|24.300144750971352 96.99098521619943|255.7649741370954 83.24426408004217|212.81305816243503 21.233911067827616|68.21745200070261 18.182496720710063|56.42701729525556 18.34045098534338|65.53757736868735 30.42422429595377|79.0400298011109 52.475643163223786|137.91248644208179 43.194501864211574|114.06517312920737 29.122914019804192|68.1721355681893 61.18528947223795|165.92442645124063 13.949386065204184|47.484017884809354 29.214464853521815|83.08729670022915 36.63618432936917|99.24458948967145 45.606998421703594|109.86378863375484 78.51759613930136|202.08753712059982 19.967378215835975|56.49130037432224 51.42344384136116|130.53583691118672 59.24145688620425|156.49078509885052 4.645041271999773|25.653111748144816 60.75448519014384|180.7480719874649 17.052412368729154|54.376809050141276 6.505159298527952|28.83840215354752 94.88855372533332|246.47692515567164 96.56320330745594|232.22029611564943 80.83973481164611|211.8341982746231 30.46137691733707|86.75574439275294 9.767211400638388|59.05044962644883 68.42330265121569|179.134646980228 44.01524937396013|123.05359685823645 12.203823484477883|40.162441014142274 49.51769101112702|122.10744715162224 3.4388521115218396|30.025358423954806 90.9320402078782|244.84943084656325 25.87799816000169|82.6053148704347 66.2522284353982|166.5366965405481 31.171107608941096|101.95571213171372 52.00680211778108|125.9984946665299 54.67102793432797|152.54614077382263 18.485445552552704|78.11817013948155 96.95846277645586|242.49079368983277 77.51328233611146|198.12022854425092 93.9498941564189|245.87124904192368 89.48273504276489|228.67208106575023 59.78999788110851|143.96836039210996 92.18742350231169|241.1541885038395 8.84925020519195|21.500088375718825 19.59828624191452|63.73163991113812 4.522728891053807|12.112579885296485 32.53303307632643|106.83192674099148 38.8677289689482|99.33678949900813 27.134903177389592|74.61664278141723 82.87375091519293|225.31954946167903 35.67533266935893|86.87968850905777 28.093450968738075|82.50822676788648 54.26960831582485|158.7454483323864 14.092422497476264|29.156223898078384 80.21969807540397|212.39558377383298 7.455064367977082|31.23648886242694 98.68869366005173|264.53996286790243 77.22447692966574|190.69168521538353 19.87156815341724|46.47435425270034 0.5522117123602399|16.599944937069576 81.54614284548342|216.8352038460404 70.68573438476172|189.21926446536304 72.90071680409874|195.7162741052166 77.12703466859458|196.01733945570152 7.4044651734090365|30.833699905132626 35.84657285442726|102.54715686905496 11.586905952512971|31.823750701018753 86.31034258755935|244.43360158034594 62.329812682755794|170.56286091600734 33.08980248526492|80.81147124113582 6.355835028602364|32.455123657844204 31.09823217156622|77.99876372664232 32.518332202674706|99.16667654411128 72.96061783380641|203.98750037459007 63.75574713552131|161.18254465528616 88.72127425763266|241.43694693652486 47.22149251619493|132.1815405598523 11.959424593830171|48.11916308452032 71.3244787222995|207.27912663228824 76.07850486168974|197.74238099419563 56.127719756949624|142.78193774879918 77.0967179954561|193.84665069238503 49.379559636439076|125.29079624144332 52.27328293819941|139.9121902513575 42.75410183585496|120.29677433780384 2.541912674409519|19.12168967932399 10.789142699330444|45.24468923868635 \n",
      "False\n"
     ]
    }
   ],
   "source": [
    "import numpy as np\n",
    "import pandas as pd\n",
    "from io import StringIO\n",
    "\n",
    "# Set seed for reproducibility\n",
    "np.random.seed(42)\n",
    "\n",
    "# Number of samples\n",
    "n_samples = 100\n",
    "\n",
    "# Generate random data for X\n",
    "X = np.random.rand(n_samples, 1) * 100  # Features\n",
    "\n",
    "# Coefficients\n",
    "true_slope = 2.5\n",
    "true_intercept = 10\n",
    "\n",
    "# Generate linear data with some noise\n",
    "noise = np.random.randn(n_samples, 1) * 10\n",
    "Y = true_slope * X + true_intercept + noise  # Target\n",
    "\n",
    "# Create a DataFrame\n",
    "data = pd.DataFrame(data=np.hstack((X, Y)), columns=[\"Feature\", \"Target\"])\n",
    "\n",
    "# Convert to single-line string using a different delimiter (e.g., \"|\")\n",
    "delimiter = \"|\"  # Using a unique delimiter to avoid conflicts\n",
    "single_line = data.to_csv(sep=delimiter, index=False, header=True).replace(\"\\n\", \" \")\n",
    "\n",
    "# Print single-line CSV format\n",
    "print(single_line)\n",
    "\n",
    "# Convert back to DataFrame\n",
    "df_restored = pd.read_csv(StringIO(single_line.replace(\" \", \"\\n\")), sep=delimiter)\n",
    "\n",
    "# Verify if restored DataFrame is equal to original\n",
    "print(df_restored.equals(data))  # Should print True\n"
   ]
  },
  {
   "cell_type": "code",
   "execution_count": 20,
   "metadata": {},
   "outputs": [
    {
     "ename": "TypeError",
     "evalue": "NDFrame.to_csv() got an unexpected keyword argument 'line_terminator'",
     "output_type": "error",
     "traceback": [
      "\u001b[0;31m---------------------------------------------------------------------------\u001b[0m",
      "\u001b[0;31mTypeError\u001b[0m                                 Traceback (most recent call last)",
      "Cell \u001b[0;32mIn[20], line 27\u001b[0m\n\u001b[1;32m     25\u001b[0m \u001b[38;5;66;03m# Convert to a single-line string using \"|\" as a delimiter\u001b[39;00m\n\u001b[1;32m     26\u001b[0m delimiter \u001b[38;5;241m=\u001b[39m \u001b[38;5;124m\"\u001b[39m\u001b[38;5;124m|\u001b[39m\u001b[38;5;124m\"\u001b[39m\n\u001b[0;32m---> 27\u001b[0m single_line \u001b[38;5;241m=\u001b[39m \u001b[43mdata\u001b[49m\u001b[38;5;241;43m.\u001b[39;49m\u001b[43mto_csv\u001b[49m\u001b[43m(\u001b[49m\u001b[43msep\u001b[49m\u001b[38;5;241;43m=\u001b[39;49m\u001b[43mdelimiter\u001b[49m\u001b[43m,\u001b[49m\u001b[43m \u001b[49m\u001b[43mindex\u001b[49m\u001b[38;5;241;43m=\u001b[39;49m\u001b[38;5;28;43;01mFalse\u001b[39;49;00m\u001b[43m,\u001b[49m\u001b[43m \u001b[49m\u001b[43mheader\u001b[49m\u001b[38;5;241;43m=\u001b[39;49m\u001b[38;5;28;43;01mTrue\u001b[39;49;00m\u001b[43m,\u001b[49m\u001b[43m \u001b[49m\u001b[43mline_terminator\u001b[49m\u001b[38;5;241;43m=\u001b[39;49m\u001b[38;5;124;43m\"\u001b[39;49m\u001b[38;5;124;43m|\u001b[39;49m\u001b[38;5;124;43m\"\u001b[39;49m\u001b[43m)\u001b[49m\u001b[38;5;241m.\u001b[39mstrip(\u001b[38;5;124m\"\u001b[39m\u001b[38;5;124m|\u001b[39m\u001b[38;5;124m\"\u001b[39m)\n\u001b[1;32m     29\u001b[0m \u001b[38;5;66;03m# Print single-line CSV format\u001b[39;00m\n\u001b[1;32m     30\u001b[0m \u001b[38;5;28mprint\u001b[39m(single_line)\n",
      "File \u001b[0;32m~/Desktop/ai-experiments/python-ai-experiments/ai-exp/lib/python3.11/site-packages/pandas/util/_decorators.py:333\u001b[0m, in \u001b[0;36mdeprecate_nonkeyword_arguments.<locals>.decorate.<locals>.wrapper\u001b[0;34m(*args, **kwargs)\u001b[0m\n\u001b[1;32m    327\u001b[0m \u001b[38;5;28;01mif\u001b[39;00m \u001b[38;5;28mlen\u001b[39m(args) \u001b[38;5;241m>\u001b[39m num_allow_args:\n\u001b[1;32m    328\u001b[0m     warnings\u001b[38;5;241m.\u001b[39mwarn(\n\u001b[1;32m    329\u001b[0m         msg\u001b[38;5;241m.\u001b[39mformat(arguments\u001b[38;5;241m=\u001b[39m_format_argument_list(allow_args)),\n\u001b[1;32m    330\u001b[0m         \u001b[38;5;167;01mFutureWarning\u001b[39;00m,\n\u001b[1;32m    331\u001b[0m         stacklevel\u001b[38;5;241m=\u001b[39mfind_stack_level(),\n\u001b[1;32m    332\u001b[0m     )\n\u001b[0;32m--> 333\u001b[0m \u001b[38;5;28;01mreturn\u001b[39;00m \u001b[43mfunc\u001b[49m\u001b[43m(\u001b[49m\u001b[38;5;241;43m*\u001b[39;49m\u001b[43margs\u001b[49m\u001b[43m,\u001b[49m\u001b[43m \u001b[49m\u001b[38;5;241;43m*\u001b[39;49m\u001b[38;5;241;43m*\u001b[39;49m\u001b[43mkwargs\u001b[49m\u001b[43m)\u001b[49m\n",
      "\u001b[0;31mTypeError\u001b[0m: NDFrame.to_csv() got an unexpected keyword argument 'line_terminator'"
     ]
    }
   ],
   "source": [
    "import numpy as np\n",
    "import pandas as pd\n",
    "from io import StringIO\n",
    "\n",
    "# Set seed for reproducibility\n",
    "np.random.seed(42)\n",
    "\n",
    "# Number of samples\n",
    "n_samples = 100\n",
    "\n",
    "# Generate random data for X\n",
    "X = np.random.rand(n_samples, 1) * 100  # Features\n",
    "\n",
    "# Coefficients\n",
    "true_slope = 2.5\n",
    "true_intercept = 10\n",
    "\n",
    "# Generate linear data with some noise\n",
    "noise = np.random.randn(n_samples, 1) * 10\n",
    "Y = true_slope * X + true_intercept + noise  # Target\n",
    "\n",
    "# Create a DataFrame\n",
    "data = pd.DataFrame(data=np.hstack((X, Y)), columns=[\"Feature\", \"Target\"])\n",
    "\n",
    "# Convert to a single-line string using \"|\" as a delimiter\n",
    "delimiter = \"|\"\n",
    "single_line = data.to_csv(sep=delimiter, index=False, header=True, line_terminator=\"|\").strip(\"|\")\n",
    "\n",
    "# Print single-line CSV format\n",
    "print(single_line)\n",
    "\n",
    "# Convert back to DataFrame\n",
    "df_restored = pd.read_csv(StringIO(single_line), sep=delimiter)\n",
    "\n",
    "# Verify if restored DataFrame is equal to original\n",
    "print(df_restored.equals(data))  # Should print True\n"
   ]
  },
  {
   "cell_type": "code",
   "execution_count": 40,
   "metadata": {},
   "outputs": [
    {
     "name": "stdout",
     "output_type": "stream",
     "text": [
      "   x  y\n",
      "0  1  2\n",
      "1  2  4\n",
      "2  3  6\n"
     ]
    }
   ],
   "source": [
    "import pandas as pd\n",
    "data = pd.DataFrame({'x': [1, 2, 3], 'y': [2, 4, 6]})\n",
    "print(data.head())\n",
    "  "
   ]
  },
  {
   "cell_type": "code",
   "execution_count": null,
   "metadata": {},
   "outputs": [],
   "source": []
  }
 ],
 "metadata": {
  "kernelspec": {
   "display_name": "ai-exp",
   "language": "python",
   "name": "python3"
  },
  "language_info": {
   "codemirror_mode": {
    "name": "ipython",
    "version": 3
   },
   "file_extension": ".py",
   "mimetype": "text/x-python",
   "name": "python",
   "nbconvert_exporter": "python",
   "pygments_lexer": "ipython3",
   "version": "3.11.3"
  }
 },
 "nbformat": 4,
 "nbformat_minor": 2
}
